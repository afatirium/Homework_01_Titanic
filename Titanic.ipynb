{
 "cells": [
  {
   "cell_type": "markdown",
   "id": "a384c20e",
   "metadata": {},
   "source": [
    "# Homework #1 - Titanic model\n",
    "Afet Ibadova 453818"
   ]
  },
  {
   "cell_type": "markdown",
   "id": "b44b753b",
   "metadata": {},
   "source": [
    "**Main task:** Please reproduce our exercises in terms of binary classification on the recommended Titanic set (link: https://web.stanford.edu/class/archive/cs/cs109/cs109.1166/stuff/titanic.csv). Please use the **survived** variable as target. The titanic.csv file contains data for 887 of the real Titanic passengers. Each row represents one person. The columns describe different attributes about the person including whether they survived, their age, their passenger-class, their sex etc.\n",
    "\n",
    "\n",
    "**Some story behind dataset:** *On April 15, 1912, the largest passenger liner ever made collided with an iceberg during her maiden voyage. When the Titanic sank it killed 1502 out of 2224 passengers and crew. This sensational tragedy shocked the international community and led to better safety regulations for ships. One of the reasons that the shipwreck resulted in such loss of life was that there were not enough lifeboats for the passengers and crew. Although there was some element of luck involved in surviving the sinking, some groups of people were more likely to survive than others.*\n",
    "\n",
    "\n",
    " *If you feel like using another dataset that is dedicated to binary or multiclass classification, feel free to use it.*\n",
    "\n",
    "\n",
    "**Steps**\n",
    "1. Load your data and prepare train-test split - check if your data is well balanced in terms of the target variable (if not try to use the stratify strategy in `train_test_split` function - see documentation: https://scikit-learn.org/stable/modules/generated/sklearn.model_selection.train_test_split.html).\n",
    "\n",
    "2. Create decent EDA/SEDA on training dataset - remember that you can use your statistical data analysis skills. Now you have many more categorical variables available - you can use e.g. Fisher/Chi2 tests (https://docs.scipy.org/doc/scipy/reference/generated/scipy.stats.fisher_exact.html), ANOVA analysis (https://docs.scipy.org/doc/scipy/reference/generated/scipy.stats.f_oneway.html), box-plots with some grouping (https://plotly.com/python/box-plots/) and many many more.\n",
    "3. Create some cool features - due to the larger number of categorical variables, you can use something much sexier in addition to one-hot-encoding: http://contrib.scikit-learn.org/category_encoders/. Familiarize yourself with the methods available in this package and if you find something for yourself, use it (remember that you fit the method on the train set, and on the test set you only perform transformations on the already fitted object). Everything in this step depends on your imagination and the number of methods you know :)\n",
    "4. Create your first logistic regression model (https://scikit-learn.org/stable/modules/generated/sklearn.linear_model.LogisticRegression.html) as we did with linear regression. Note that in the documentation for default logistic regression L2 regularization is turned on, turn it off first (penalty = None). In addition, in this step you must choose the evaluation functions for you (https://scikit-learn.org/stable/modules/model_evaluation.html#common-cases-predefined-values). Based on the lecture and the available documentation, select the functions that will be appropriate for your problem (e.g. check if you are dealing with an unbalanced problem and decide what is more important to you, e.g. Precision or Recall optimization). Try to plot two curves that we discussed during our lecture: ROC (https://scikit-learn.org/stable/modules/generated/sklearn.metrics.RocCurveDisplay.html#sklearn.metrics.RocCurveDisplay.from_estimator) and PR (https://scikit-learn.org/stable/modules/generated/sklearn.metrics.PrecisionRecallDisplay.html#sklearn.metrics.PrecisionRecallDisplay.from_predictions). Remember to experiment with different logit models because of the explanatory variables used.\n",
    "5. Use cross-validation of your choice (if your sample is unbalanced, use cross-validation with stratified, e.g. https://scikit-learn.org/stable/modules/generated/sklearn.model_selection.StratifiedKFold.html).\n",
    "6. Check whether regularization will be helpful in your problem - use three models of regularized logistic regression (ridge, lasso and elastic net). You can use the LogisticRegression object for this (https://scikit-learn.org/stable/modules/generated/sklearn.linear_model.LogisticRegression.html#sklearn.linear_model.LogisticRegression) - note that you have three hyperparameters at your disposal: a) penalty - Specify the norm of the penalty; b) C - **Inverse** of regularization strength; c) l1_ratio - this remark only makes sense if you are using elastic net. Try playing with these hyperparameters.\n",
    "7. Use your chosen hyperparameter tuning method for regularized logistic regression. Check on the out-of-sample test set whether your results have improved.\n"
   ]
  },
  {
   "cell_type": "markdown",
   "id": "cd3e6d1a",
   "metadata": {},
   "source": [
    "# Import libraries"
   ]
  },
  {
   "cell_type": "code",
   "execution_count": 344,
   "id": "25470054",
   "metadata": {},
   "outputs": [],
   "source": [
    "import pandas as pd\n",
    "import numpy as np\n",
    "import matplotlib.pyplot as plt\n",
    "import seaborn as sns\n",
    "from sklearn.model_selection import train_test_split\n",
    "from scipy.stats import chi2_contingency\n",
    "import category_encoders as ce\n",
    "from sklearn.preprocessing import LabelEncoder\n",
    "from sklearn.ensemble import RandomForestClassifier\n",
    "from sklearn.metrics import accuracy_score, classification_report\n",
    "from sklearn.linear_model import LogisticRegression\n",
    "from sklearn.metrics import roc_curve, roc_auc_score, precision_recall_curve, average_precision_score, plot_roc_curve, plot_precision_recall_curve\n",
    "from sklearn.model_selection import StratifiedKFold, cross_val_predict\n",
    "\n",
    "import warnings\n",
    "warnings.filterwarnings(\"ignore\")"
   ]
  },
  {
   "cell_type": "markdown",
   "id": "bd9b2bf0",
   "metadata": {},
   "source": [
    "# Task 1:\n",
    "\n",
    "Load your data and prepare train-test split - check if your data is well balanced in terms of the target variable (if not try to use the stratify strategy in train_test_split function - see documentation: https://scikit-learn.org/stable/modules/generated/sklearn.model_selection.train_test_split.html).\n",
    "\n",
    "## 1.1. Load Dataset\n"
   ]
  },
  {
   "cell_type": "code",
   "execution_count": 312,
   "id": "02c4416e",
   "metadata": {},
   "outputs": [
    {
     "data": {
      "text/html": [
       "<div>\n",
       "<style scoped>\n",
       "    .dataframe tbody tr th:only-of-type {\n",
       "        vertical-align: middle;\n",
       "    }\n",
       "\n",
       "    .dataframe tbody tr th {\n",
       "        vertical-align: top;\n",
       "    }\n",
       "\n",
       "    .dataframe thead th {\n",
       "        text-align: right;\n",
       "    }\n",
       "</style>\n",
       "<table border=\"1\" class=\"dataframe\">\n",
       "  <thead>\n",
       "    <tr style=\"text-align: right;\">\n",
       "      <th></th>\n",
       "      <th>Survived</th>\n",
       "      <th>Pclass</th>\n",
       "      <th>Name</th>\n",
       "      <th>Sex</th>\n",
       "      <th>Age</th>\n",
       "      <th>Siblings/Spouses Aboard</th>\n",
       "      <th>Parents/Children Aboard</th>\n",
       "      <th>Fare</th>\n",
       "    </tr>\n",
       "  </thead>\n",
       "  <tbody>\n",
       "    <tr>\n",
       "      <th>0</th>\n",
       "      <td>0</td>\n",
       "      <td>3</td>\n",
       "      <td>Mr. Owen Harris Braund</td>\n",
       "      <td>male</td>\n",
       "      <td>22.0</td>\n",
       "      <td>1</td>\n",
       "      <td>0</td>\n",
       "      <td>7.2500</td>\n",
       "    </tr>\n",
       "    <tr>\n",
       "      <th>1</th>\n",
       "      <td>1</td>\n",
       "      <td>1</td>\n",
       "      <td>Mrs. John Bradley (Florence Briggs Thayer) Cum...</td>\n",
       "      <td>female</td>\n",
       "      <td>38.0</td>\n",
       "      <td>1</td>\n",
       "      <td>0</td>\n",
       "      <td>71.2833</td>\n",
       "    </tr>\n",
       "    <tr>\n",
       "      <th>2</th>\n",
       "      <td>1</td>\n",
       "      <td>3</td>\n",
       "      <td>Miss. Laina Heikkinen</td>\n",
       "      <td>female</td>\n",
       "      <td>26.0</td>\n",
       "      <td>0</td>\n",
       "      <td>0</td>\n",
       "      <td>7.9250</td>\n",
       "    </tr>\n",
       "    <tr>\n",
       "      <th>3</th>\n",
       "      <td>1</td>\n",
       "      <td>1</td>\n",
       "      <td>Mrs. Jacques Heath (Lily May Peel) Futrelle</td>\n",
       "      <td>female</td>\n",
       "      <td>35.0</td>\n",
       "      <td>1</td>\n",
       "      <td>0</td>\n",
       "      <td>53.1000</td>\n",
       "    </tr>\n",
       "    <tr>\n",
       "      <th>4</th>\n",
       "      <td>0</td>\n",
       "      <td>3</td>\n",
       "      <td>Mr. William Henry Allen</td>\n",
       "      <td>male</td>\n",
       "      <td>35.0</td>\n",
       "      <td>0</td>\n",
       "      <td>0</td>\n",
       "      <td>8.0500</td>\n",
       "    </tr>\n",
       "    <tr>\n",
       "      <th>5</th>\n",
       "      <td>0</td>\n",
       "      <td>3</td>\n",
       "      <td>Mr. James Moran</td>\n",
       "      <td>male</td>\n",
       "      <td>27.0</td>\n",
       "      <td>0</td>\n",
       "      <td>0</td>\n",
       "      <td>8.4583</td>\n",
       "    </tr>\n",
       "    <tr>\n",
       "      <th>6</th>\n",
       "      <td>0</td>\n",
       "      <td>1</td>\n",
       "      <td>Mr. Timothy J McCarthy</td>\n",
       "      <td>male</td>\n",
       "      <td>54.0</td>\n",
       "      <td>0</td>\n",
       "      <td>0</td>\n",
       "      <td>51.8625</td>\n",
       "    </tr>\n",
       "    <tr>\n",
       "      <th>7</th>\n",
       "      <td>0</td>\n",
       "      <td>3</td>\n",
       "      <td>Master. Gosta Leonard Palsson</td>\n",
       "      <td>male</td>\n",
       "      <td>2.0</td>\n",
       "      <td>3</td>\n",
       "      <td>1</td>\n",
       "      <td>21.0750</td>\n",
       "    </tr>\n",
       "    <tr>\n",
       "      <th>8</th>\n",
       "      <td>1</td>\n",
       "      <td>3</td>\n",
       "      <td>Mrs. Oscar W (Elisabeth Vilhelmina Berg) Johnson</td>\n",
       "      <td>female</td>\n",
       "      <td>27.0</td>\n",
       "      <td>0</td>\n",
       "      <td>2</td>\n",
       "      <td>11.1333</td>\n",
       "    </tr>\n",
       "    <tr>\n",
       "      <th>9</th>\n",
       "      <td>1</td>\n",
       "      <td>2</td>\n",
       "      <td>Mrs. Nicholas (Adele Achem) Nasser</td>\n",
       "      <td>female</td>\n",
       "      <td>14.0</td>\n",
       "      <td>1</td>\n",
       "      <td>0</td>\n",
       "      <td>30.0708</td>\n",
       "    </tr>\n",
       "  </tbody>\n",
       "</table>\n",
       "</div>"
      ],
      "text/plain": [
       "   Survived  Pclass                                               Name  \\\n",
       "0         0       3                             Mr. Owen Harris Braund   \n",
       "1         1       1  Mrs. John Bradley (Florence Briggs Thayer) Cum...   \n",
       "2         1       3                              Miss. Laina Heikkinen   \n",
       "3         1       1        Mrs. Jacques Heath (Lily May Peel) Futrelle   \n",
       "4         0       3                            Mr. William Henry Allen   \n",
       "5         0       3                                    Mr. James Moran   \n",
       "6         0       1                             Mr. Timothy J McCarthy   \n",
       "7         0       3                      Master. Gosta Leonard Palsson   \n",
       "8         1       3   Mrs. Oscar W (Elisabeth Vilhelmina Berg) Johnson   \n",
       "9         1       2                 Mrs. Nicholas (Adele Achem) Nasser   \n",
       "\n",
       "      Sex   Age  Siblings/Spouses Aboard  Parents/Children Aboard     Fare  \n",
       "0    male  22.0                        1                        0   7.2500  \n",
       "1  female  38.0                        1                        0  71.2833  \n",
       "2  female  26.0                        0                        0   7.9250  \n",
       "3  female  35.0                        1                        0  53.1000  \n",
       "4    male  35.0                        0                        0   8.0500  \n",
       "5    male  27.0                        0                        0   8.4583  \n",
       "6    male  54.0                        0                        0  51.8625  \n",
       "7    male   2.0                        3                        1  21.0750  \n",
       "8  female  27.0                        0                        2  11.1333  \n",
       "9  female  14.0                        1                        0  30.0708  "
      ]
     },
     "execution_count": 312,
     "metadata": {},
     "output_type": "execute_result"
    }
   ],
   "source": [
    "# Load the dataset\n",
    "url = \"https://web.stanford.edu/class/archive/cs/cs109/cs109.1166/stuff/titanic.csv\"\n",
    "df = pd.read_csv(url)\n",
    "df.head(10)"
   ]
  },
  {
   "cell_type": "code",
   "execution_count": 313,
   "id": "066f1cd3",
   "metadata": {},
   "outputs": [
    {
     "data": {
      "text/html": [
       "<div>\n",
       "<style scoped>\n",
       "    .dataframe tbody tr th:only-of-type {\n",
       "        vertical-align: middle;\n",
       "    }\n",
       "\n",
       "    .dataframe tbody tr th {\n",
       "        vertical-align: top;\n",
       "    }\n",
       "\n",
       "    .dataframe thead th {\n",
       "        text-align: right;\n",
       "    }\n",
       "</style>\n",
       "<table border=\"1\" class=\"dataframe\">\n",
       "  <thead>\n",
       "    <tr style=\"text-align: right;\">\n",
       "      <th></th>\n",
       "      <th>Survived</th>\n",
       "      <th>Pclass</th>\n",
       "      <th>Name</th>\n",
       "      <th>Sex</th>\n",
       "      <th>Age</th>\n",
       "      <th>Siblings/Spouses Aboard</th>\n",
       "      <th>Parents/Children Aboard</th>\n",
       "      <th>Fare</th>\n",
       "    </tr>\n",
       "  </thead>\n",
       "  <tbody>\n",
       "    <tr>\n",
       "      <th>877</th>\n",
       "      <td>0</td>\n",
       "      <td>3</td>\n",
       "      <td>Mr. Johann Markun</td>\n",
       "      <td>male</td>\n",
       "      <td>33.0</td>\n",
       "      <td>0</td>\n",
       "      <td>0</td>\n",
       "      <td>7.8958</td>\n",
       "    </tr>\n",
       "    <tr>\n",
       "      <th>878</th>\n",
       "      <td>0</td>\n",
       "      <td>3</td>\n",
       "      <td>Miss. Gerda Ulrika Dahlberg</td>\n",
       "      <td>female</td>\n",
       "      <td>22.0</td>\n",
       "      <td>0</td>\n",
       "      <td>0</td>\n",
       "      <td>10.5167</td>\n",
       "    </tr>\n",
       "    <tr>\n",
       "      <th>879</th>\n",
       "      <td>0</td>\n",
       "      <td>2</td>\n",
       "      <td>Mr. Frederick James Banfield</td>\n",
       "      <td>male</td>\n",
       "      <td>28.0</td>\n",
       "      <td>0</td>\n",
       "      <td>0</td>\n",
       "      <td>10.5000</td>\n",
       "    </tr>\n",
       "    <tr>\n",
       "      <th>880</th>\n",
       "      <td>0</td>\n",
       "      <td>3</td>\n",
       "      <td>Mr. Henry Jr Sutehall</td>\n",
       "      <td>male</td>\n",
       "      <td>25.0</td>\n",
       "      <td>0</td>\n",
       "      <td>0</td>\n",
       "      <td>7.0500</td>\n",
       "    </tr>\n",
       "    <tr>\n",
       "      <th>881</th>\n",
       "      <td>0</td>\n",
       "      <td>3</td>\n",
       "      <td>Mrs. William (Margaret Norton) Rice</td>\n",
       "      <td>female</td>\n",
       "      <td>39.0</td>\n",
       "      <td>0</td>\n",
       "      <td>5</td>\n",
       "      <td>29.1250</td>\n",
       "    </tr>\n",
       "    <tr>\n",
       "      <th>882</th>\n",
       "      <td>0</td>\n",
       "      <td>2</td>\n",
       "      <td>Rev. Juozas Montvila</td>\n",
       "      <td>male</td>\n",
       "      <td>27.0</td>\n",
       "      <td>0</td>\n",
       "      <td>0</td>\n",
       "      <td>13.0000</td>\n",
       "    </tr>\n",
       "    <tr>\n",
       "      <th>883</th>\n",
       "      <td>1</td>\n",
       "      <td>1</td>\n",
       "      <td>Miss. Margaret Edith Graham</td>\n",
       "      <td>female</td>\n",
       "      <td>19.0</td>\n",
       "      <td>0</td>\n",
       "      <td>0</td>\n",
       "      <td>30.0000</td>\n",
       "    </tr>\n",
       "    <tr>\n",
       "      <th>884</th>\n",
       "      <td>0</td>\n",
       "      <td>3</td>\n",
       "      <td>Miss. Catherine Helen Johnston</td>\n",
       "      <td>female</td>\n",
       "      <td>7.0</td>\n",
       "      <td>1</td>\n",
       "      <td>2</td>\n",
       "      <td>23.4500</td>\n",
       "    </tr>\n",
       "    <tr>\n",
       "      <th>885</th>\n",
       "      <td>1</td>\n",
       "      <td>1</td>\n",
       "      <td>Mr. Karl Howell Behr</td>\n",
       "      <td>male</td>\n",
       "      <td>26.0</td>\n",
       "      <td>0</td>\n",
       "      <td>0</td>\n",
       "      <td>30.0000</td>\n",
       "    </tr>\n",
       "    <tr>\n",
       "      <th>886</th>\n",
       "      <td>0</td>\n",
       "      <td>3</td>\n",
       "      <td>Mr. Patrick Dooley</td>\n",
       "      <td>male</td>\n",
       "      <td>32.0</td>\n",
       "      <td>0</td>\n",
       "      <td>0</td>\n",
       "      <td>7.7500</td>\n",
       "    </tr>\n",
       "  </tbody>\n",
       "</table>\n",
       "</div>"
      ],
      "text/plain": [
       "     Survived  Pclass                                 Name     Sex   Age  \\\n",
       "877         0       3                    Mr. Johann Markun    male  33.0   \n",
       "878         0       3          Miss. Gerda Ulrika Dahlberg  female  22.0   \n",
       "879         0       2         Mr. Frederick James Banfield    male  28.0   \n",
       "880         0       3                Mr. Henry Jr Sutehall    male  25.0   \n",
       "881         0       3  Mrs. William (Margaret Norton) Rice  female  39.0   \n",
       "882         0       2                 Rev. Juozas Montvila    male  27.0   \n",
       "883         1       1          Miss. Margaret Edith Graham  female  19.0   \n",
       "884         0       3       Miss. Catherine Helen Johnston  female   7.0   \n",
       "885         1       1                 Mr. Karl Howell Behr    male  26.0   \n",
       "886         0       3                   Mr. Patrick Dooley    male  32.0   \n",
       "\n",
       "     Siblings/Spouses Aboard  Parents/Children Aboard     Fare  \n",
       "877                        0                        0   7.8958  \n",
       "878                        0                        0  10.5167  \n",
       "879                        0                        0  10.5000  \n",
       "880                        0                        0   7.0500  \n",
       "881                        0                        5  29.1250  \n",
       "882                        0                        0  13.0000  \n",
       "883                        0                        0  30.0000  \n",
       "884                        1                        2  23.4500  \n",
       "885                        0                        0  30.0000  \n",
       "886                        0                        0   7.7500  "
      ]
     },
     "execution_count": 313,
     "metadata": {},
     "output_type": "execute_result"
    }
   ],
   "source": [
    "df.tail(10)"
   ]
  },
  {
   "cell_type": "code",
   "execution_count": 314,
   "id": "94a54336",
   "metadata": {},
   "outputs": [
    {
     "data": {
      "text/plain": [
       "(887, 8)"
      ]
     },
     "execution_count": 314,
     "metadata": {},
     "output_type": "execute_result"
    }
   ],
   "source": [
    "df.shape"
   ]
  },
  {
   "cell_type": "markdown",
   "id": "fe03cb83",
   "metadata": {},
   "source": [
    "## 1.2. Prepare train-test split"
   ]
  },
  {
   "cell_type": "code",
   "execution_count": 315,
   "id": "f584d489",
   "metadata": {},
   "outputs": [
    {
     "name": "stdout",
     "output_type": "stream",
     "text": [
      "Survived distribution:\n",
      "0    0.614431\n",
      "1    0.385569\n",
      "Name: Survived, dtype: float64\n"
     ]
    }
   ],
   "source": [
    "# Check the balance of the target variable (Survived)\n",
    "target_balance = df['Survived'].value_counts(normalize=True)\n",
    "print(\"Survived distribution:\")\n",
    "print(target_balance)"
   ]
  },
  {
   "cell_type": "code",
   "execution_count": 316,
   "id": "8de12963",
   "metadata": {},
   "outputs": [],
   "source": [
    "# Perform a train-test split with stratification\n",
    "X = df.drop('Survived', axis=1)  # Features\n",
    "y = df['Survived']  # Target\n",
    "\n",
    "# Use stratify to ensure a balanced split based on the target variable\n",
    "X_train, X_test, y_train, y_test = train_test_split(X, y, test_size=0.2, random_state=123, stratify=y)"
   ]
  },
  {
   "cell_type": "code",
   "execution_count": 317,
   "id": "b95d4c52",
   "metadata": {},
   "outputs": [],
   "source": [
    "# Check the balance in the training and testing sets\n",
    "train_target_balance = y_train.value_counts(normalize=True)\n",
    "test_target_balance = y_test.value_counts(normalize=True)"
   ]
  },
  {
   "cell_type": "code",
   "execution_count": 318,
   "id": "d92f9ccc",
   "metadata": {},
   "outputs": [
    {
     "name": "stdout",
     "output_type": "stream",
     "text": [
      "\n",
      "Training set Survived distribution:\n",
      "0    0.614951\n",
      "1    0.385049\n",
      "Name: Survived, dtype: float64\n",
      "\n",
      "Testing set Survived distribution:\n",
      "0    0.61236\n",
      "1    0.38764\n",
      "Name: Survived, dtype: float64\n"
     ]
    }
   ],
   "source": [
    "print(\"\\nTraining set Survived distribution:\")\n",
    "print(train_target_balance)\n",
    "\n",
    "print(\"\\nTesting set Survived distribution:\")\n",
    "print(test_target_balance)"
   ]
  },
  {
   "cell_type": "markdown",
   "id": "e0bee89d",
   "metadata": {},
   "source": [
    "# Task 2:\n",
    "\n",
    "Create decent EDA/SEDA on training dataset - remember that you can use your statistical data analysis skills. Now you have many more categorical variables available - you can use e.g. Fisher/Chi2 tests (https://docs.scipy.org/doc/scipy/reference/generated/scipy.stats.fisher_exact.html), ANOVA analysis (https://docs.scipy.org/doc/scipy/reference/generated/scipy.stats.f_oneway.html), box-plots with some grouping (https://plotly.com/python/box-plots/) and many many more.\n",
    "\n",
    "## 2.1. Create decent EDA/SEDA on training dataset "
   ]
  },
  {
   "cell_type": "code",
   "execution_count": 319,
   "id": "7b6c954a",
   "metadata": {},
   "outputs": [
    {
     "name": "stdout",
     "output_type": "stream",
     "text": [
      "<class 'pandas.core.frame.DataFrame'>\n",
      "Int64Index: 709 entries, 92 to 751\n",
      "Data columns (total 8 columns):\n",
      " #   Column                   Non-Null Count  Dtype  \n",
      "---  ------                   --------------  -----  \n",
      " 0   Pclass                   709 non-null    int64  \n",
      " 1   Name                     709 non-null    object \n",
      " 2   Sex                      709 non-null    object \n",
      " 3   Age                      709 non-null    float64\n",
      " 4   Siblings/Spouses Aboard  709 non-null    int64  \n",
      " 5   Parents/Children Aboard  709 non-null    int64  \n",
      " 6   Fare                     709 non-null    float64\n",
      " 7   Survived                 709 non-null    int64  \n",
      "dtypes: float64(2), int64(4), object(2)\n",
      "memory usage: 49.9+ KB\n"
     ]
    }
   ],
   "source": [
    "df_train = pd.concat([X_train, y_train], axis=1)\n",
    "\n",
    "df_train.info()"
   ]
  },
  {
   "cell_type": "code",
   "execution_count": null,
   "id": "ede4fe17",
   "metadata": {},
   "outputs": [],
   "source": []
  },
  {
   "cell_type": "code",
   "execution_count": 320,
   "id": "81ea26da",
   "metadata": {},
   "outputs": [
    {
     "data": {
      "text/plain": [
       "Pclass                     0\n",
       "Name                       0\n",
       "Sex                        0\n",
       "Age                        0\n",
       "Siblings/Spouses Aboard    0\n",
       "Parents/Children Aboard    0\n",
       "Fare                       0\n",
       "Survived                   0\n",
       "dtype: int64"
      ]
     },
     "execution_count": 320,
     "metadata": {},
     "output_type": "execute_result"
    }
   ],
   "source": [
    "df_train.isna().sum()"
   ]
  },
  {
   "cell_type": "code",
   "execution_count": 321,
   "id": "513d01dd",
   "metadata": {},
   "outputs": [
    {
     "data": {
      "text/html": [
       "<div>\n",
       "<style scoped>\n",
       "    .dataframe tbody tr th:only-of-type {\n",
       "        vertical-align: middle;\n",
       "    }\n",
       "\n",
       "    .dataframe tbody tr th {\n",
       "        vertical-align: top;\n",
       "    }\n",
       "\n",
       "    .dataframe thead th {\n",
       "        text-align: right;\n",
       "    }\n",
       "</style>\n",
       "<table border=\"1\" class=\"dataframe\">\n",
       "  <thead>\n",
       "    <tr style=\"text-align: right;\">\n",
       "      <th></th>\n",
       "      <th>Pclass</th>\n",
       "      <th>Age</th>\n",
       "      <th>Siblings/Spouses Aboard</th>\n",
       "      <th>Parents/Children Aboard</th>\n",
       "      <th>Fare</th>\n",
       "      <th>Survived</th>\n",
       "    </tr>\n",
       "  </thead>\n",
       "  <tbody>\n",
       "    <tr>\n",
       "      <th>count</th>\n",
       "      <td>709.000000</td>\n",
       "      <td>709.000000</td>\n",
       "      <td>709.000000</td>\n",
       "      <td>709.000000</td>\n",
       "      <td>709.000000</td>\n",
       "      <td>709.000000</td>\n",
       "    </tr>\n",
       "    <tr>\n",
       "      <th>mean</th>\n",
       "      <td>2.310296</td>\n",
       "      <td>29.746601</td>\n",
       "      <td>0.527504</td>\n",
       "      <td>0.376587</td>\n",
       "      <td>32.182627</td>\n",
       "      <td>0.385049</td>\n",
       "    </tr>\n",
       "    <tr>\n",
       "      <th>std</th>\n",
       "      <td>0.831695</td>\n",
       "      <td>14.121815</td>\n",
       "      <td>1.105146</td>\n",
       "      <td>0.790526</td>\n",
       "      <td>51.481126</td>\n",
       "      <td>0.486951</td>\n",
       "    </tr>\n",
       "    <tr>\n",
       "      <th>min</th>\n",
       "      <td>1.000000</td>\n",
       "      <td>0.420000</td>\n",
       "      <td>0.000000</td>\n",
       "      <td>0.000000</td>\n",
       "      <td>0.000000</td>\n",
       "      <td>0.000000</td>\n",
       "    </tr>\n",
       "    <tr>\n",
       "      <th>25%</th>\n",
       "      <td>2.000000</td>\n",
       "      <td>21.000000</td>\n",
       "      <td>0.000000</td>\n",
       "      <td>0.000000</td>\n",
       "      <td>7.925000</td>\n",
       "      <td>0.000000</td>\n",
       "    </tr>\n",
       "    <tr>\n",
       "      <th>50%</th>\n",
       "      <td>3.000000</td>\n",
       "      <td>28.000000</td>\n",
       "      <td>0.000000</td>\n",
       "      <td>0.000000</td>\n",
       "      <td>14.458300</td>\n",
       "      <td>0.000000</td>\n",
       "    </tr>\n",
       "    <tr>\n",
       "      <th>75%</th>\n",
       "      <td>3.000000</td>\n",
       "      <td>38.000000</td>\n",
       "      <td>1.000000</td>\n",
       "      <td>0.000000</td>\n",
       "      <td>30.695800</td>\n",
       "      <td>1.000000</td>\n",
       "    </tr>\n",
       "    <tr>\n",
       "      <th>max</th>\n",
       "      <td>3.000000</td>\n",
       "      <td>80.000000</td>\n",
       "      <td>8.000000</td>\n",
       "      <td>5.000000</td>\n",
       "      <td>512.329200</td>\n",
       "      <td>1.000000</td>\n",
       "    </tr>\n",
       "  </tbody>\n",
       "</table>\n",
       "</div>"
      ],
      "text/plain": [
       "           Pclass         Age  Siblings/Spouses Aboard  \\\n",
       "count  709.000000  709.000000               709.000000   \n",
       "mean     2.310296   29.746601                 0.527504   \n",
       "std      0.831695   14.121815                 1.105146   \n",
       "min      1.000000    0.420000                 0.000000   \n",
       "25%      2.000000   21.000000                 0.000000   \n",
       "50%      3.000000   28.000000                 0.000000   \n",
       "75%      3.000000   38.000000                 1.000000   \n",
       "max      3.000000   80.000000                 8.000000   \n",
       "\n",
       "       Parents/Children Aboard        Fare    Survived  \n",
       "count               709.000000  709.000000  709.000000  \n",
       "mean                  0.376587   32.182627    0.385049  \n",
       "std                   0.790526   51.481126    0.486951  \n",
       "min                   0.000000    0.000000    0.000000  \n",
       "25%                   0.000000    7.925000    0.000000  \n",
       "50%                   0.000000   14.458300    0.000000  \n",
       "75%                   0.000000   30.695800    1.000000  \n",
       "max                   5.000000  512.329200    1.000000  "
      ]
     },
     "execution_count": 321,
     "metadata": {},
     "output_type": "execute_result"
    }
   ],
   "source": [
    "df_train.describe()"
   ]
  },
  {
   "cell_type": "code",
   "execution_count": 322,
   "id": "3fee91e8",
   "metadata": {},
   "outputs": [
    {
     "data": {
      "text/plain": [
       "['Name', 'Sex']"
      ]
     },
     "execution_count": 322,
     "metadata": {},
     "output_type": "execute_result"
    }
   ],
   "source": [
    "#Choose categorical variables\n",
    "categorical_features = [var \n",
    "            for var in df_train.columns \n",
    "            if df_train[var].dtype == 'O']\n",
    "categorical_features"
   ]
  },
  {
   "cell_type": "markdown",
   "id": "804f1d95",
   "metadata": {},
   "source": [
    "Since given that 'Pclass' possesses categorical meaning, we should include this variable in the categorical_features list."
   ]
  },
  {
   "cell_type": "code",
   "execution_count": 323,
   "id": "c83329fd",
   "metadata": {},
   "outputs": [
    {
     "data": {
      "text/plain": [
       "['Pclass', 'Name', 'Sex']"
      ]
     },
     "execution_count": 323,
     "metadata": {},
     "output_type": "execute_result"
    }
   ],
   "source": [
    "# Change 'Pclass' to object (categorical type)\n",
    "df_train['Pclass'] = df_train['Pclass'].astype('object')\n",
    "\n",
    "#Choose categorical variables\n",
    "categorical_features = [var \n",
    "            for var in df_train.columns \n",
    "            if df_train[var].dtype == 'O']\n",
    "categorical_features"
   ]
  },
  {
   "cell_type": "code",
   "execution_count": 324,
   "id": "96f0b250",
   "metadata": {},
   "outputs": [
    {
     "data": {
      "image/png": "[encoded data removed]",
      "text/plain": [
       "<Figure size 576x432 with 1 Axes>"
      ]
     },
     "metadata": {
      "needs_background": "light"
     },
     "output_type": "display_data"
    },
    {
     "data": {
      "image/png": "[encoded data removed]",
      "text/plain": [
       "<Figure size 576x432 with 1 Axes>"
      ]
     },
     "metadata": {
      "needs_background": "light"
     },
     "output_type": "display_data"
    },
    {
     "data": {
      "image/png": "[encoded data removed]",
      "text/plain": [
       "<Figure size 576x432 with 1 Axes>"
      ]
     },
     "metadata": {
      "needs_background": "light"
     },
     "output_type": "display_data"
    }
   ],
   "source": [
    "# Plot count distribution for each categorical variable\n",
    "for feature in categorical_features:\n",
    "    plt.figure(figsize=(8, 6))\n",
    "    sns.countplot(x=feature, hue='Survived', data=df_train)\n",
    "    plt.title(f'{feature} Count Distribution by Survived')\n",
    "    plt.legend(title='Survived', labels=['No', 'Yes'])\n",
    "    plt.show()"
   ]
  },
  {
   "cell_type": "markdown",
   "id": "9d1784fe",
   "metadata": {},
   "source": [
    "Utilizing 'Name' as a variable does not contribute substantive information. It is prudent to remove this variable from both the categorical features list and the training/testing data."
   ]
  },
  {
   "cell_type": "code",
   "execution_count": 325,
   "id": "f3085aff",
   "metadata": {},
   "outputs": [
    {
     "data": {
      "text/plain": [
       "['Pclass', 'Sex']"
      ]
     },
     "execution_count": 325,
     "metadata": {},
     "output_type": "execute_result"
    }
   ],
   "source": [
    "categorical_features.remove('Name')\n",
    "categorical_features"
   ]
  },
  {
   "cell_type": "code",
   "execution_count": 326,
   "id": "8f614e11",
   "metadata": {},
   "outputs": [],
   "source": [
    "df_train.drop('Name', axis=1, inplace=True)\n",
    "X_train.drop('Name', axis=1, inplace=True)\n",
    "X_test.drop('Name', axis=1, inplace=True)"
   ]
  },
  {
   "cell_type": "code",
   "execution_count": 327,
   "id": "cca335bf",
   "metadata": {},
   "outputs": [
    {
     "name": "stdout",
     "output_type": "stream",
     "text": [
      "<class 'pandas.core.frame.DataFrame'>\n",
      "Int64Index: 709 entries, 92 to 751\n",
      "Data columns (total 7 columns):\n",
      " #   Column                   Non-Null Count  Dtype  \n",
      "---  ------                   --------------  -----  \n",
      " 0   Pclass                   709 non-null    object \n",
      " 1   Sex                      709 non-null    object \n",
      " 2   Age                      709 non-null    float64\n",
      " 3   Siblings/Spouses Aboard  709 non-null    int64  \n",
      " 4   Parents/Children Aboard  709 non-null    int64  \n",
      " 5   Fare                     709 non-null    float64\n",
      " 6   Survived                 709 non-null    int64  \n",
      "dtypes: float64(2), int64(3), object(2)\n",
      "memory usage: 60.5+ KB\n"
     ]
    }
   ],
   "source": [
    "df_train.info()"
   ]
  },
  {
   "cell_type": "code",
   "execution_count": 328,
   "id": "44028a90",
   "metadata": {},
   "outputs": [
    {
     "name": "stdout",
     "output_type": "stream",
     "text": [
      "<class 'pandas.core.frame.DataFrame'>\n",
      "Int64Index: 709 entries, 92 to 751\n",
      "Data columns (total 6 columns):\n",
      " #   Column                   Non-Null Count  Dtype  \n",
      "---  ------                   --------------  -----  \n",
      " 0   Pclass                   709 non-null    int64  \n",
      " 1   Sex                      709 non-null    object \n",
      " 2   Age                      709 non-null    float64\n",
      " 3   Siblings/Spouses Aboard  709 non-null    int64  \n",
      " 4   Parents/Children Aboard  709 non-null    int64  \n",
      " 5   Fare                     709 non-null    float64\n",
      "dtypes: float64(2), int64(3), object(1)\n",
      "memory usage: 54.9+ KB\n"
     ]
    }
   ],
   "source": [
    "X_train.info()"
   ]
  },
  {
   "cell_type": "code",
   "execution_count": 329,
   "id": "bab0e19c",
   "metadata": {},
   "outputs": [
    {
     "name": "stdout",
     "output_type": "stream",
     "text": [
      "<class 'pandas.core.frame.DataFrame'>\n",
      "Int64Index: 178 entries, 546 to 528\n",
      "Data columns (total 6 columns):\n",
      " #   Column                   Non-Null Count  Dtype  \n",
      "---  ------                   --------------  -----  \n",
      " 0   Pclass                   178 non-null    int64  \n",
      " 1   Sex                      178 non-null    object \n",
      " 2   Age                      178 non-null    float64\n",
      " 3   Siblings/Spouses Aboard  178 non-null    int64  \n",
      " 4   Parents/Children Aboard  178 non-null    int64  \n",
      " 5   Fare                     178 non-null    float64\n",
      "dtypes: float64(2), int64(3), object(1)\n",
      "memory usage: 9.7+ KB\n"
     ]
    }
   ],
   "source": [
    "X_test.info()"
   ]
  },
  {
   "cell_type": "code",
   "execution_count": 330,
   "id": "3545bd54",
   "metadata": {},
   "outputs": [
    {
     "name": "stdout",
     "output_type": "stream",
     "text": [
      "Chi-squared test results for categorical variables:\n",
      "Chi-squared test for Pclass: p-value = 0.00000\n",
      "Chi-squared test for Sex: p-value = 0.00000\n"
     ]
    }
   ],
   "source": [
    "# Perform chi-squared test for each categorical variable\n",
    "print(\"Chi-squared test results for categorical variables:\")\n",
    "for feature in categorical_features:\n",
    "    contingency_table = pd.crosstab(X_train[feature], y_train)\n",
    "    chi2, p_val, _, _ = chi2_contingency(contingency_table)\n",
    "    print(f\"Chi-squared test for {feature}: p-value = {p_val:.5f}\")"
   ]
  },
  {
   "cell_type": "markdown",
   "id": "4518ae5e",
   "metadata": {},
   "source": [
    "The chi-squared test results for the 'Sex' and 'Pclass' variables indicate highly significant associations with the target variable 'Survived'. Let's interpret these results:\n",
    "\n",
    "1. **Chi-squared test for 'Sex':**\n",
    "   - **p-value = 0.00000**: The extremely low p-value (very close to zero) suggests a highly significant association between the 'Sex' of a passenger and their likelihood of survival.\n",
    "   - In other words, the gender ('Sex') of a passenger is strongly related to whether they survived or not on the Titanic. Historical data supports this, showing a higher survival rate among females compared to males.\n",
    "\n",
    "2. **Chi-squared test for 'Pclass':**\n",
    "   - **p-value = 0.00000**: Again, the extremely low p-value indicates a highly significant association between the passenger class ('Pclass') and the likelihood of survival.\n",
    "   - This implies that the class a passenger was in ('Pclass') significantly influenced their chances of survival. For example, passengers in higher classes (lower 'Pclass' numbers) had a better chance of survival compared to those in lower classes."
   ]
  },
  {
   "cell_type": "code",
   "execution_count": 331,
   "id": "f1e43878",
   "metadata": {},
   "outputs": [
    {
     "data": {
      "image/png": "[encoded data removed]",
      "text/plain": [
       "<Figure size 1440x432 with 4 Axes>"
      ]
     },
     "metadata": {
      "needs_background": "light"
     },
     "output_type": "display_data"
    }
   ],
   "source": [
    "# Create subplots for all four box plots\n",
    "fig, axes = plt.subplots(1, 4, figsize=(20, 6))\n",
    "\n",
    "# Box plot for Age by Survived\n",
    "sns.boxplot(x='Survived', y='Age', data=df_train, ax=axes[0])\n",
    "axes[0].set_title('Age Box Plot by Survived')\n",
    "axes[0].set_xlabel('Survived')\n",
    "axes[0].set_ylabel('Age')\n",
    "axes[0].set_xticks([0, 1])\n",
    "axes[0].set_xticklabels(['No', 'Yes'])\n",
    "\n",
    "# Box plot for Siblings/Spouses Aboard by Survived\n",
    "sns.boxplot(x='Survived', y='Siblings/Spouses Aboard', data=df_train, ax=axes[1])\n",
    "axes[1].set_title('Siblings/Spouses Aboard Box Plot by Survived')\n",
    "axes[1].set_xlabel('Survived')\n",
    "axes[1].set_ylabel('Siblings/Spouses Aboard')\n",
    "axes[1].set_xticks([0, 1])\n",
    "axes[1].set_xticklabels(['No', 'Yes'])\n",
    "\n",
    "# Box plot for Parents/Children Aboard by Survived\n",
    "sns.boxplot(x='Survived', y='Parents/Children Aboard', data=df_train, ax=axes[2])\n",
    "axes[2].set_title('Parents/Children Aboard Box Plot by Survived')\n",
    "axes[2].set_xlabel('Survived')\n",
    "axes[2].set_ylabel('Parents/Children Aboard')\n",
    "axes[2].set_xticks([0, 1])\n",
    "axes[2].set_xticklabels(['No', 'Yes'])\n",
    "\n",
    "# Box plot for Fare by Survived\n",
    "sns.boxplot(x='Survived', y='Fare', data=df_train, ax=axes[3])\n",
    "axes[3].set_title('Fare Box Plot by Survived')\n",
    "axes[3].set_xlabel('Survived')\n",
    "axes[3].set_ylabel('Fare')\n",
    "axes[3].set_xticks([0, 1])\n",
    "axes[3].set_xticklabels(['No', 'Yes'])\n",
    "\n",
    "plt.tight_layout()\n",
    "plt.show()\n"
   ]
  },
  {
   "cell_type": "markdown",
   "id": "6931a84b",
   "metadata": {},
   "source": [
    "# Task 3:\n",
    "\n",
    "Create some cool features - due to the larger number of categorical variables, you can use something much sexier in addition to one-hot-encoding: http://contrib.scikit-learn.org/category_encoders/. Familiarize yourself with the methods available in this package and if you find something for yourself, use it (remember that you fit the method on the train set, and on the test set you only perform transformations on the already fitted object).\n",
    "\n",
    "## 3.1. Sexy features"
   ]
  },
  {
   "cell_type": "code",
   "execution_count": 332,
   "id": "bd1ae6d8",
   "metadata": {},
   "outputs": [],
   "source": [
    "df_test = pd.concat([X_test, y_test], axis=1)"
   ]
  },
  {
   "cell_type": "code",
   "execution_count": 333,
   "id": "7822a773",
   "metadata": {},
   "outputs": [
    {
     "name": "stdout",
     "output_type": "stream",
     "text": [
      "    Pclass   Sex   Age  Siblings/Spouses Aboard  Parents/Children Aboard  \\\n",
      "92       3  male  26.0                        1                        2   \n",
      "458      3  male  34.0                        0                        0   \n",
      "465      3  male  22.0                        0                        0   \n",
      "880      3  male  25.0                        0                        0   \n",
      "757      3  male  41.0                        0                        0   \n",
      "\n",
      "       Fare  Survived  FamilySize  \n",
      "92   20.575         0           4  \n",
      "458   8.050         0           1  \n",
      "465   7.725         0           1  \n",
      "880   7.050         0           1  \n",
      "757   7.125         0           1  \n"
     ]
    }
   ],
   "source": [
    "# Create a 'FamilySize' feature\n",
    "df_train['FamilySize'] = df_train['Siblings/Spouses Aboard'] + df_train['Parents/Children Aboard'] + 1  # 1 for the passenger themselves\n",
    "df_test['FamilySize'] = df_test['Siblings/Spouses Aboard'] + df_test['Parents/Children Aboard'] + 1  # 1 for the passenger themselves\n",
    "\n",
    "# Check the updated training set with the new 'FamilySize' feature\n",
    "print(df_train.head())\n"
   ]
  },
  {
   "cell_type": "code",
   "execution_count": 334,
   "id": "eb5d9402",
   "metadata": {},
   "outputs": [
    {
     "name": "stdout",
     "output_type": "stream",
     "text": [
      "    Pclass   Sex   Age  Siblings/Spouses Aboard  Parents/Children Aboard  \\\n",
      "92       3  male  26.0                        1                        2   \n",
      "458      3  male  34.0                        0                        0   \n",
      "465      3  male  22.0                        0                        0   \n",
      "880      3  male  25.0                        0                        0   \n",
      "757      3  male  41.0                        0                        0   \n",
      "\n",
      "       Fare  Survived  FamilySize  IsAlone  \n",
      "92   20.575         0           4        0  \n",
      "458   8.050         0           1        1  \n",
      "465   7.725         0           1        1  \n",
      "880   7.050         0           1        1  \n",
      "757   7.125         0           1        1  \n"
     ]
    }
   ],
   "source": [
    "# Create an 'IsAlone' feature\n",
    "df_train['IsAlone'] = (df_train['Siblings/Spouses Aboard'] + df_train['Parents/Children Aboard']) == 0\n",
    "df_train['IsAlone'] = df_train['IsAlone'].astype(int)\n",
    "\n",
    "df_test['IsAlone'] = (df_test['Siblings/Spouses Aboard'] + df_test['Parents/Children Aboard']) == 0\n",
    "df_test['IsAlone'] = df_test['IsAlone'].astype(int)\n",
    "\n",
    "# Check the updated training set with the new 'IsAlone' feature\n",
    "print(df_train.head())\n"
   ]
  },
  {
   "cell_type": "code",
   "execution_count": 335,
   "id": "419f0135",
   "metadata": {},
   "outputs": [
    {
     "name": "stdout",
     "output_type": "stream",
     "text": [
      "     Sex_0  Sex_1   Age  Siblings/Spouses Aboard  Parents/Children Aboard  \\\n",
      "92       0      1  26.0                        1                        2   \n",
      "458      0      1  34.0                        0                        0   \n",
      "465      0      1  22.0                        0                        0   \n",
      "880      0      1  25.0                        0                        0   \n",
      "757      0      1  41.0                        0                        0   \n",
      "\n",
      "       Fare  Survived  FamilySize  IsAlone  Pclass_1  Pclass_2  Pclass_3  \n",
      "92   20.575         0           4        0         0         0         1  \n",
      "458   8.050         0           1        1         0         0         1  \n",
      "465   7.725         0           1        1         0         0         1  \n",
      "880   7.050         0           1        1         0         0         1  \n",
      "757   7.125         0           1        1         0         0         1  \n"
     ]
    }
   ],
   "source": [
    "# One-hot encode 'Pclass'\n",
    "df_train = pd.get_dummies(df_train, columns=['Pclass'], prefix='Pclass')\n",
    "df_test = pd.get_dummies(df_test, columns=['Pclass'], prefix='Pclass')\n",
    "\n",
    "# Binary encode 'Sex'\n",
    "encoder = ce.BinaryEncoder(cols=['Sex'])\n",
    "df_train = encoder.fit_transform(df_train)\n",
    "df_test = encoder.fit_transform(df_test)\n",
    "\n",
    "# Check the transformed training set with encoded variables\n",
    "print(df_train.head())\n"
   ]
  },
  {
   "cell_type": "code",
   "execution_count": 337,
   "id": "062d454a",
   "metadata": {},
   "outputs": [
    {
     "data": {
      "image/png": "[encoded data removed]",
      "text/plain": [
       "<Figure size 1080x648 with 2 Axes>"
      ]
     },
     "metadata": {
      "needs_background": "light"
     },
     "output_type": "display_data"
    }
   ],
   "source": [
    "# Calculate the correlation matrix for numeric variables (e.g., Age, Fare)\n",
    "correlation_matrix_numeric = df_train.corr()\n",
    "\n",
    "# Set up the matplotlib figure\n",
    "plt.figure(figsize=(15, 9))\n",
    "\n",
    "# Plot heatmap for numeric variables using Pearson correlation\n",
    "sns.heatmap(correlation_matrix_numeric, annot=True, cmap='coolwarm', fmt='.2f', linewidths=0.5)\n",
    "plt.title('Pearson Correlation')\n",
    "\n",
    "plt.tight_layout()\n",
    "plt.show()\n"
   ]
  },
  {
   "cell_type": "markdown",
   "id": "b830660d",
   "metadata": {},
   "source": [
    "Since we have new features like **'Family size'** and **'IsAlone'**, we can eliminate ***'Siblings/Spouses Aboard'*** and ***'Parents/Children Aboard'***. \n",
    "\n",
    "Firstly, let's check the correlation. It seems Familysize and IsAlone less correlated with the target variables, however, Siblings/Spouses and Parents/Children Aboard have the correlation with each other. \n",
    "Let's drop them and continue with new variables. "
   ]
  },
  {
   "cell_type": "code",
   "execution_count": 340,
   "id": "e186d174",
   "metadata": {},
   "outputs": [
    {
     "name": "stdout",
     "output_type": "stream",
     "text": [
      "Dataset 1 (with 'FamilySize' and 'IsAlone'):\n"
     ]
    },
    {
     "data": {
      "text/html": [
       "<div>\n",
       "<style scoped>\n",
       "    .dataframe tbody tr th:only-of-type {\n",
       "        vertical-align: middle;\n",
       "    }\n",
       "\n",
       "    .dataframe tbody tr th {\n",
       "        vertical-align: top;\n",
       "    }\n",
       "\n",
       "    .dataframe thead th {\n",
       "        text-align: right;\n",
       "    }\n",
       "</style>\n",
       "<table border=\"1\" class=\"dataframe\">\n",
       "  <thead>\n",
       "    <tr style=\"text-align: right;\">\n",
       "      <th></th>\n",
       "      <th>Sex_0</th>\n",
       "      <th>Sex_1</th>\n",
       "      <th>Age</th>\n",
       "      <th>Fare</th>\n",
       "      <th>Survived</th>\n",
       "      <th>FamilySize</th>\n",
       "      <th>IsAlone</th>\n",
       "      <th>Pclass_1</th>\n",
       "      <th>Pclass_2</th>\n",
       "      <th>Pclass_3</th>\n",
       "    </tr>\n",
       "  </thead>\n",
       "  <tbody>\n",
       "    <tr>\n",
       "      <th>92</th>\n",
       "      <td>0</td>\n",
       "      <td>1</td>\n",
       "      <td>26.0</td>\n",
       "      <td>20.575</td>\n",
       "      <td>0</td>\n",
       "      <td>4</td>\n",
       "      <td>0</td>\n",
       "      <td>0</td>\n",
       "      <td>0</td>\n",
       "      <td>1</td>\n",
       "    </tr>\n",
       "    <tr>\n",
       "      <th>458</th>\n",
       "      <td>0</td>\n",
       "      <td>1</td>\n",
       "      <td>34.0</td>\n",
       "      <td>8.050</td>\n",
       "      <td>0</td>\n",
       "      <td>1</td>\n",
       "      <td>1</td>\n",
       "      <td>0</td>\n",
       "      <td>0</td>\n",
       "      <td>1</td>\n",
       "    </tr>\n",
       "    <tr>\n",
       "      <th>465</th>\n",
       "      <td>0</td>\n",
       "      <td>1</td>\n",
       "      <td>22.0</td>\n",
       "      <td>7.725</td>\n",
       "      <td>0</td>\n",
       "      <td>1</td>\n",
       "      <td>1</td>\n",
       "      <td>0</td>\n",
       "      <td>0</td>\n",
       "      <td>1</td>\n",
       "    </tr>\n",
       "    <tr>\n",
       "      <th>880</th>\n",
       "      <td>0</td>\n",
       "      <td>1</td>\n",
       "      <td>25.0</td>\n",
       "      <td>7.050</td>\n",
       "      <td>0</td>\n",
       "      <td>1</td>\n",
       "      <td>1</td>\n",
       "      <td>0</td>\n",
       "      <td>0</td>\n",
       "      <td>1</td>\n",
       "    </tr>\n",
       "    <tr>\n",
       "      <th>757</th>\n",
       "      <td>0</td>\n",
       "      <td>1</td>\n",
       "      <td>41.0</td>\n",
       "      <td>7.125</td>\n",
       "      <td>0</td>\n",
       "      <td>1</td>\n",
       "      <td>1</td>\n",
       "      <td>0</td>\n",
       "      <td>0</td>\n",
       "      <td>1</td>\n",
       "    </tr>\n",
       "  </tbody>\n",
       "</table>\n",
       "</div>"
      ],
      "text/plain": [
       "     Sex_0  Sex_1   Age    Fare  Survived  FamilySize  IsAlone  Pclass_1  \\\n",
       "92       0      1  26.0  20.575         0           4        0         0   \n",
       "458      0      1  34.0   8.050         0           1        1         0   \n",
       "465      0      1  22.0   7.725         0           1        1         0   \n",
       "880      0      1  25.0   7.050         0           1        1         0   \n",
       "757      0      1  41.0   7.125         0           1        1         0   \n",
       "\n",
       "     Pclass_2  Pclass_3  \n",
       "92          0         1  \n",
       "458         0         1  \n",
       "465         0         1  \n",
       "880         0         1  \n",
       "757         0         1  "
      ]
     },
     "execution_count": 340,
     "metadata": {},
     "output_type": "execute_result"
    }
   ],
   "source": [
    "# Create a dataset with 'FamilySize' and 'IsAlone'\n",
    "df_dataset1 = df_train.drop(['Siblings/Spouses Aboard', 'Parents/Children Aboard'], axis=1)\n",
    "df_test1 = df_test.drop(['Siblings/Spouses Aboard', 'Parents/Children Aboard'], axis=1)\n",
    "\n",
    "# Check the first few rows of the dataset\n",
    "print(\"Dataset 1 (with 'FamilySize' and 'IsAlone'):\")\n",
    "df_dataset1.head()\n"
   ]
  },
  {
   "cell_type": "markdown",
   "id": "5151c8c6",
   "metadata": {},
   "source": [
    "# Task 4:\n",
    "\n",
    "Create your first logistic regression model (https://scikit-learn.org/stable/modules/generated/sklearn.linear_model.LogisticRegression.html) as we did with linear regression. Note that in the documentation for default logistic regression L2 regularization is turned on, turn it off first (penalty = None). In addition, in this step you must choose the evaluation functions for you (https://scikit-learn.org/stable/modules/model_evaluation.html#common-cases-predefined-values). Based on the lecture and the available documentation, select the functions that will be appropriate for your problem (e.g. check if you are dealing with an unbalanced problem and decide what is more important to you, e.g. Precision or Recall optimization). Try to plot two curves that we discussed during our lecture: ROC (https://scikit-learn.org/stable/modules/generated/sklearn.metrics.RocCurveDisplay.html#sklearn.metrics.RocCurveDisplay.from_estimator) and PR (https://scikit-learn.org/stable/modules/generated/sklearn.metrics.PrecisionRecallDisplay.html#sklearn.metrics.PrecisionRecallDisplay.from_predictions). Remember to experiment with different logit models because of the explanatory variables used.\n",
    "\n",
    "## 4.1. Modelling\n"
   ]
  },
  {
   "cell_type": "code",
   "execution_count": 341,
   "id": "f214b038",
   "metadata": {},
   "outputs": [],
   "source": [
    "# Define features (X) and target (y) for training data\n",
    "X_train = df_dataset1.drop('Survived', axis=1)\n",
    "y_train = df_dataset1['Survived']\n",
    "\n",
    "# Define features (X) and target (y) for test data\n",
    "X_test = df_test1.drop('Survived', axis=1)\n",
    "y_test = df_test1['Survived']\n",
    "\n"
   ]
  },
  {
   "cell_type": "code",
   "execution_count": 347,
   "id": "0682a580",
   "metadata": {},
   "outputs": [
    {
     "data": {
      "text/html": [
       "<div>\n",
       "<style scoped>\n",
       "    .dataframe tbody tr th:only-of-type {\n",
       "        vertical-align: middle;\n",
       "    }\n",
       "\n",
       "    .dataframe tbody tr th {\n",
       "        vertical-align: top;\n",
       "    }\n",
       "\n",
       "    .dataframe thead th {\n",
       "        text-align: right;\n",
       "    }\n",
       "</style>\n",
       "<table border=\"1\" class=\"dataframe\">\n",
       "  <thead>\n",
       "    <tr style=\"text-align: right;\">\n",
       "      <th></th>\n",
       "      <th>Sex_0</th>\n",
       "      <th>Sex_1</th>\n",
       "      <th>Age</th>\n",
       "      <th>Fare</th>\n",
       "      <th>FamilySize</th>\n",
       "      <th>IsAlone</th>\n",
       "      <th>Pclass_1</th>\n",
       "      <th>Pclass_2</th>\n",
       "      <th>Pclass_3</th>\n",
       "    </tr>\n",
       "  </thead>\n",
       "  <tbody>\n",
       "    <tr>\n",
       "      <th>92</th>\n",
       "      <td>0</td>\n",
       "      <td>1</td>\n",
       "      <td>26.0</td>\n",
       "      <td>20.575</td>\n",
       "      <td>4</td>\n",
       "      <td>0</td>\n",
       "      <td>0</td>\n",
       "      <td>0</td>\n",
       "      <td>1</td>\n",
       "    </tr>\n",
       "    <tr>\n",
       "      <th>458</th>\n",
       "      <td>0</td>\n",
       "      <td>1</td>\n",
       "      <td>34.0</td>\n",
       "      <td>8.050</td>\n",
       "      <td>1</td>\n",
       "      <td>1</td>\n",
       "      <td>0</td>\n",
       "      <td>0</td>\n",
       "      <td>1</td>\n",
       "    </tr>\n",
       "    <tr>\n",
       "      <th>465</th>\n",
       "      <td>0</td>\n",
       "      <td>1</td>\n",
       "      <td>22.0</td>\n",
       "      <td>7.725</td>\n",
       "      <td>1</td>\n",
       "      <td>1</td>\n",
       "      <td>0</td>\n",
       "      <td>0</td>\n",
       "      <td>1</td>\n",
       "    </tr>\n",
       "    <tr>\n",
       "      <th>880</th>\n",
       "      <td>0</td>\n",
       "      <td>1</td>\n",
       "      <td>25.0</td>\n",
       "      <td>7.050</td>\n",
       "      <td>1</td>\n",
       "      <td>1</td>\n",
       "      <td>0</td>\n",
       "      <td>0</td>\n",
       "      <td>1</td>\n",
       "    </tr>\n",
       "    <tr>\n",
       "      <th>757</th>\n",
       "      <td>0</td>\n",
       "      <td>1</td>\n",
       "      <td>41.0</td>\n",
       "      <td>7.125</td>\n",
       "      <td>1</td>\n",
       "      <td>1</td>\n",
       "      <td>0</td>\n",
       "      <td>0</td>\n",
       "      <td>1</td>\n",
       "    </tr>\n",
       "  </tbody>\n",
       "</table>\n",
       "</div>"
      ],
      "text/plain": [
       "     Sex_0  Sex_1   Age    Fare  FamilySize  IsAlone  Pclass_1  Pclass_2  \\\n",
       "92       0      1  26.0  20.575           4        0         0         0   \n",
       "458      0      1  34.0   8.050           1        1         0         0   \n",
       "465      0      1  22.0   7.725           1        1         0         0   \n",
       "880      0      1  25.0   7.050           1        1         0         0   \n",
       "757      0      1  41.0   7.125           1        1         0         0   \n",
       "\n",
       "     Pclass_3  \n",
       "92          1  \n",
       "458         1  \n",
       "465         1  \n",
       "880         1  \n",
       "757         1  "
      ]
     },
     "execution_count": 347,
     "metadata": {},
     "output_type": "execute_result"
    }
   ],
   "source": [
    "X_train.head()"
   ]
  },
  {
   "cell_type": "code",
   "execution_count": 343,
   "id": "6929c7e1",
   "metadata": {},
   "outputs": [
    {
     "data": {
      "image/png": "[encoded data removed]",
      "text/plain": [
       "<Figure size 720x360 with 2 Axes>"
      ]
     },
     "metadata": {
      "needs_background": "light"
     },
     "output_type": "display_data"
    }
   ],
   "source": [
    "\n",
    "# Create and train the logistic regression model with L2 regularization turned off\n",
    "log_reg = LogisticRegression(penalty='none', random_state=123)\n",
    "log_reg.fit(X_train, y_train)\n",
    "\n",
    "# Predict probabilities for the test set\n",
    "y_prob = log_reg.predict_proba(X_test)[:, 1]\n",
    "\n",
    "# Compute ROC curve\n",
    "fpr, tpr, _ = roc_curve(y_test, y_prob)\n",
    "roc_auc = roc_auc_score(y_test, y_prob)\n",
    "\n",
    "# Compute PR curve\n",
    "precision, recall, _ = precision_recall_curve(y_test, y_prob)\n",
    "average_precision = average_precision_score(y_test, y_prob)\n",
    "\n",
    "# Plot ROC curve\n",
    "plt.figure(figsize=(10, 5))\n",
    "ax1 = plt.subplot(1, 2, 1)\n",
    "plot_roc_curve(log_reg, X_test, y_test, ax=ax1)\n",
    "ax1.set_title('ROC Curve (AUC = {:.2f})'.format(roc_auc))\n",
    "\n",
    "# Plot PR curve\n",
    "ax2 = plt.subplot(1, 2, 2)\n",
    "plot_precision_recall_curve(log_reg, X_test, y_test, ax=ax2)\n",
    "ax2.set_title('Precision-Recall Curve (Avg Precision = {:.2f})'.format(average_precision))\n",
    "\n",
    "plt.tight_layout()\n",
    "plt.show()\n"
   ]
  },
  {
   "cell_type": "markdown",
   "id": "c4e3bc33",
   "metadata": {},
   "source": [
    "# Task 5:\n",
    "\n",
    "Use cross-validation of your choice (if your sample is unbalanced, use cross-validation with stratified, e.g. https://scikit-learn.org/stable/modules/generated/sklearn.model_selection.StratifiedKFold.html)."
   ]
  },
  {
   "cell_type": "code",
   "execution_count": 349,
   "id": "a8a8cd83",
   "metadata": {},
   "outputs": [
    {
     "name": "stdout",
     "output_type": "stream",
     "text": [
      "Cross-validated AUC: 0.85\n",
      "Cross-validated Average Precision: 0.81\n"
     ]
    }
   ],
   "source": [
    "\n",
    "# Define features (X) and target (y)\n",
    "X = df_dataset1.drop('Survived', axis=1)\n",
    "y = df_dataset1['Survived']\n",
    "\n",
    "# Initialize StratifiedKFold with 5 folds\n",
    "stratified_kfold = StratifiedKFold(n_splits=5, shuffle=True, random_state=123)\n",
    "\n",
    "# Perform cross-validation and obtain predicted probabilities\n",
    "y_prob_cv = cross_val_predict(log_reg, X, y, cv=stratified_kfold, method='predict_proba')[:, 1]\n",
    "\n",
    "# Compute AUC and average precision\n",
    "auc_cv = roc_auc_score(y, y_prob_cv)\n",
    "avg_precision_cv = average_precision_score(y, y_prob_cv)\n",
    "\n",
    "print(\"Cross-validated AUC: {:.2f}\".format(auc_cv))\n",
    "print(\"Cross-validated Average Precision: {:.2f}\".format(avg_precision_cv))\n"
   ]
  },
  {
   "cell_type": "markdown",
   "id": "66384cb2",
   "metadata": {},
   "source": [
    "The cross-validated AUC (Area Under the Curve) of 0.85 and cross-validated Average Precision of 0.81 indicate that the logistic regression model is performing well in distinguishing between the positive and negative classes in your dataset. These metrics suggest a strong predictive capability of the model.\n",
    "\n",
    "- AUC of 0.85 indicates a good ability to discriminate between positive and negative samples. The higher the AUC, the better the model is at distinguishing between survival and non-survival cases.\n",
    "\n",
    "- Average Precision of 0.81 reflects the trade-off between precision and recall, which is important, especially in imbalanced datasets. A higher average precision indicates that the model is able to identify a substantial number of actual positive cases.\n",
    "\n",
    "Overall, these metrics suggest a promising performance of the logistic regression model on the Titanic dataset. However, it's always a good practice to further validate the model, potentially tune hyperparameters, and evaluate its performance on an independent test set to ensure robustness. If you have any further questions or need additional assistance, feel free to ask!"
   ]
  }
 ],
 "metadata": {
  "kernelspec": {
   "display_name": "Python 3 (ipykernel)",
   "language": "python",
   "name": "python3"
  },
  "language_info": {
   "codemirror_mode": {
    "name": "ipython",
    "version": 3
   },
   "file_extension": ".py",
   "mimetype": "text/x-python",
   "name": "python",
   "nbconvert_exporter": "python",
   "pygments_lexer": "ipython3",
   "version": "3.9.7"
  }
 },
 "nbformat": 4,
 "nbformat_minor": 5
}
